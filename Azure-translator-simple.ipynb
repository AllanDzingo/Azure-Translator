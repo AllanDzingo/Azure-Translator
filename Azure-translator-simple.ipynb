{
 "cells": [
  {
   "cell_type": "code",
   "execution_count": 4,
   "id": "cfa5702e-c4a7-4d5b-8763-30e33eae0dfd",
   "metadata": {},
   "outputs": [
    {
     "name": "stdout",
     "output_type": "stream",
     "text": [
      "Requirement already satisfied: azure-ai-translation-text==1.0.0b1 in /anaconda/envs/azureml_py310_sdkv2/lib/python3.10/site-packages (1.0.0b1)\n",
      "Requirement already satisfied: msrest>=0.7.1 in /anaconda/envs/azureml_py310_sdkv2/lib/python3.10/site-packages (from azure-ai-translation-text==1.0.0b1) (0.7.1)\n",
      "Requirement already satisfied: azure-core<2.0.0,>=1.24.0 in /anaconda/envs/azureml_py310_sdkv2/lib/python3.10/site-packages (from azure-ai-translation-text==1.0.0b1) (1.35.0)\n",
      "Requirement already satisfied: typing-extensions>=4.3.0 in /anaconda/envs/azureml_py310_sdkv2/lib/python3.10/site-packages (from azure-ai-translation-text==1.0.0b1) (4.14.1)\n",
      "Requirement already satisfied: requests>=2.21.0 in /anaconda/envs/azureml_py310_sdkv2/lib/python3.10/site-packages (from azure-core<2.0.0,>=1.24.0->azure-ai-translation-text==1.0.0b1) (2.32.4)\n",
      "Requirement already satisfied: six>=1.11.0 in /anaconda/envs/azureml_py310_sdkv2/lib/python3.10/site-packages (from azure-core<2.0.0,>=1.24.0->azure-ai-translation-text==1.0.0b1) (1.17.0)\n",
      "Requirement already satisfied: certifi>=2017.4.17 in /anaconda/envs/azureml_py310_sdkv2/lib/python3.10/site-packages (from msrest>=0.7.1->azure-ai-translation-text==1.0.0b1) (2025.7.9)\n",
      "Requirement already satisfied: isodate>=0.6.0 in /anaconda/envs/azureml_py310_sdkv2/lib/python3.10/site-packages (from msrest>=0.7.1->azure-ai-translation-text==1.0.0b1) (0.7.2)\n",
      "Requirement already satisfied: requests-oauthlib>=0.5.0 in /anaconda/envs/azureml_py310_sdkv2/lib/python3.10/site-packages (from msrest>=0.7.1->azure-ai-translation-text==1.0.0b1) (2.0.0)\n",
      "Requirement already satisfied: charset_normalizer<4,>=2 in /anaconda/envs/azureml_py310_sdkv2/lib/python3.10/site-packages (from requests>=2.21.0->azure-core<2.0.0,>=1.24.0->azure-ai-translation-text==1.0.0b1) (3.4.2)\n",
      "Requirement already satisfied: idna<4,>=2.5 in /anaconda/envs/azureml_py310_sdkv2/lib/python3.10/site-packages (from requests>=2.21.0->azure-core<2.0.0,>=1.24.0->azure-ai-translation-text==1.0.0b1) (3.10)\n",
      "Requirement already satisfied: urllib3<3,>=1.21.1 in /anaconda/envs/azureml_py310_sdkv2/lib/python3.10/site-packages (from requests>=2.21.0->azure-core<2.0.0,>=1.24.0->azure-ai-translation-text==1.0.0b1) (2.5.0)\n",
      "Requirement already satisfied: oauthlib>=3.0.0 in /anaconda/envs/azureml_py310_sdkv2/lib/python3.10/site-packages (from requests-oauthlib>=0.5.0->msrest>=0.7.1->azure-ai-translation-text==1.0.0b1) (3.3.1)\n",
      "Note: you may need to restart the kernel to use updated packages.\n"
     ]
    }
   ],
   "source": [
    "%pip install azure-ai-translation-text==1.0.0b1"
   ]
  },
  {
   "cell_type": "code",
   "execution_count": 5,
   "id": "bbe3fbd9-fd18-4494-9e3e-afc79517d94b",
   "metadata": {},
   "outputs": [
    {
     "name": "stdout",
     "output_type": "stream",
     "text": [
      "Requirement already satisfied: pip in /anaconda/envs/azureml_py310_sdkv2/lib/python3.10/site-packages (25.2)\n",
      "Note: you may need to restart the kernel to use updated packages.\n"
     ]
    }
   ],
   "source": [
    "%pip install --upgrade pip"
   ]
  },
  {
   "cell_type": "code",
   "execution_count": 2,
   "id": "c114a304-36bd-430a-a803-d7f79ee6754d",
   "metadata": {},
   "outputs": [],
   "source": [
    "from azure.core.credentials import AzureKeyCredential\n",
    "from azure.ai.translation.text import TextTranslationClient"
   ]
  },
  {
   "cell_type": "code",
   "execution_count": 6,
   "id": "abf47342-6e89-467c-8c95-db0b604df03a",
   "metadata": {},
   "outputs": [],
   "source": [
    "from azure.ai.translation.text import TextTranslationClient, TranslatorCredential\n",
    "from azure.ai.translation.text.models import InputTextItem\n",
    "from azure.core.exceptions import HttpResponseError\n",
    "\n",
    "key = \"*********\"\n",
    "endpoint = \"https://api.cognitive.microsofttranslator.com/\"\n",
    "region = \"YOUR_Location\"\n",
    "\n",
    "\n",
    "credential = TranslatorCredential(key, region)\n",
    "text_translator = TextTranslationClient(endpoint=endpoint, credential=credential)\n",
    "\n",
    "def get_text_translation():\n",
    " \n",
    "    try:\n",
    "        from_language = \"en\"\n",
    "        to_language = [\"cs\"]\n",
    "        input_text_elements = [\"This is a test\"]\n",
    "\n",
    "        response = text_translator.translate(\n",
    "            body=input_text_elements, to_language=to_language, from_language=from_language\n",
    "        )\n",
    "        translation = response[0] if response else None\n",
    "\n",
    "        if translation:\n",
    "            for translated_text in translation.translations:\n",
    "                print(f\"Text was translated to: '{translated_text.to}' and the result is: '{translated_text.text}'.\")\n",
    "\n",
    "    except HttpResponseError as exception:\n",
    "        if exception.error is not None:\n",
    "            print(f\"Error Code: {exception.error.code}\")\n",
    "            print(f\"Message: {exception.error.message}\")\n",
    "        raise\n",
    "    # [END get_text_translation]"
   ]
  },
  {
   "cell_type": "code",
   "execution_count": 3,
   "id": "a3d65186-326c-44ba-8c76-682ac31bd146",
   "metadata": {},
   "outputs": [
    {
     "name": "stdout",
     "output_type": "stream",
     "text": [
      "Original: Hello, how are you?\n",
      "Translated: ¿Hola cómo estás?\n"
     ]
    }
   ],
   "source": [
    "import requests\n",
    "import uuid\n",
    "\n",
    "\n",
    "key = \"*******\"\n",
    "endpoint = \"Your endpoint\"\n",
    "\n",
    "\"\n",
    "location = \"westus\"\n",
    "\n",
    "def translate_text(text, to_lang=\"fr\", from_lang=None):\n",
    "    path = '/translate'\n",
    "    constructed_url = endpoint + path\n",
    "\n",
    "    params = {\n",
    "        'api-version': '3.0',\n",
    "        'to': to_lang\n",
    "    }\n",
    "    if from_lang:\n",
    "        params['from'] = from_lang\n",
    "\n",
    "    headers = {\n",
    "        'Ocp-Apim-Subscription-Key': key,\n",
    "        'Ocp-Apim-Subscription-Region': location,\n",
    "        'Content-type': 'application/json',\n",
    "        'X-ClientTraceId': str(uuid.uuid4())\n",
    "    }\n",
    "\n",
    "    body = [{\n",
    "        'text': text\n",
    "    }]\n",
    "\n",
    "    response = requests.post(constructed_url, params=params, headers=headers, json=body)\n",
    "    result = response.json()\n",
    "    return result[0]['translations'][0]['text']\n",
    "\n",
    "\n",
    "# Example usage:\n",
    "if __name__ == \"__main__\":\n",
    "    original_text = \"Hello, how are you?\"\n",
    "    translated = translate_text (original_text, to_lang=\"es\")  # English to Spanish\n",
    "    print(f\"Original: {original_text}\")\n",
    "    print(f\"Translated: {translated}\")\n"
   ]
  },
  {
   "cell_type": "code",
   "execution_count": null,
   "id": "253e5e02-6cd0-4dab-94b7-457fff40dfce",
   "metadata": {},
   "outputs": [],
   "source": []
  }
 ],
 "metadata": {
  "kernelspec": {
   "display_name": "Python 3.10 - SDK v2",
   "language": "python",
   "name": "python310-sdkv2"
  },
  "language_info": {
   "codemirror_mode": {
    "name": "ipython",
    "version": 3
   },
   "file_extension": ".py",
   "mimetype": "text/x-python",
   "name": "python",
   "nbconvert_exporter": "python",
   "pygments_lexer": "ipython3",
   "version": "3.10.18"
  }
 },
 "nbformat": 4,
 "nbformat_minor": 5
}
